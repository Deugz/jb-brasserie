{
 "cells": [
  {
   "cell_type": "markdown",
   "id": "6a48584a-a643-4a1f-ab92-f942cf30f0c3",
   "metadata": {
    "user_expressions": []
   },
   "source": [
    "# Tableau Interactif\n",
    "\n",
    "Un Jupyter Notebook (python) pour récupérer les données et les visualiser de manière interactive"
   ]
  },
  {
   "cell_type": "markdown",
   "id": "8835841d-0972-45e4-862c-7a00487eb03d",
   "metadata": {
    "user_expressions": []
   },
   "source": [
    "## Libraries\n",
    "\n",
    "```{tip}\n",
    "\n",
    "Pour que python fonctionne, il doit importer des librairies, c'est ce que nous allonf faire dans la case suivante\n",
    "\n",
    "```"
   ]
  },
  {
   "cell_type": "code",
   "execution_count": null,
   "id": "2d550233-c6ea-42a7-beec-ddcabc380a09",
   "metadata": {},
   "outputs": [],
   "source": []
  },
  {
   "cell_type": "markdown",
   "id": "6b8cacbe-ccc1-4764-a47c-b5f86420a588",
   "metadata": {
    "user_expressions": []
   },
   "source": [
    "## Récupération des données\n",
    "\n",
    "```{warning}\n",
    "\n",
    "Créer un tableau excel qui réference toute les bières et leur caracteristique afin de créer un tableau interactif\n",
    "\n",
    "\n",
    "```"
   ]
  },
  {
   "cell_type": "code",
   "execution_count": null,
   "id": "caf18b01-034f-4f17-8909-9b96bc714e18",
   "metadata": {},
   "outputs": [],
   "source": []
  }
 ],
 "metadata": {
  "kernelspec": {
   "display_name": "Python 3 (ipykernel)",
   "language": "python",
   "name": "python3"
  },
  "language_info": {
   "codemirror_mode": {
    "name": "ipython",
    "version": 3
   },
   "file_extension": ".py",
   "mimetype": "text/x-python",
   "name": "python",
   "nbconvert_exporter": "python",
   "pygments_lexer": "ipython3",
   "version": "3.9.13"
  }
 },
 "nbformat": 4,
 "nbformat_minor": 5
}
