{
 "cells": [
  {
   "cell_type": "markdown",
   "id": "470bd31c-9fb7-436f-b3b3-91e2c0139659",
   "metadata": {},
   "source": [
    "# Traçabilité Brassage\n",
    "\n",
    "Le but de cette feuille est de prendre des notes pendant le brassage pour générer un fichier de traçabilité"
   ]
  },
  {
   "cell_type": "markdown",
   "id": "0b5f4099-f06a-4a08-bd35-5c977ff2ecc4",
   "metadata": {},
   "source": [
    "## Importation des documents\n",
    "\n",
    "Le but ici est d'appeler les documents (excel) et de créer un df ou l'on pourra ensuite ajouter les informations saisies au fur et a mesure du brassage.\n",
    "- Stock-ingrédients\n",
    "- Stock-bieres\n",
    "- Fiches-tracabilité\n"
   ]
  },
  {
   "cell_type": "markdown",
   "id": "bcd856b1-0478-4127-a1d7-0e27de682ab1",
   "metadata": {},
   "source": [
    "## Informations sur la bière\n",
    "\n",
    "Le but ici est de créer plusieurs inputs qui nous renseigne sur la bière que l'on veut brasser:\n",
    "- Nom\n",
    "- Type\n",
    "- \n",
    "\n",
    "```{note}\n",
    "\n",
    "Implémenter ces informations dans un tableau excel\n",
    "\n",
    "\n",
    "```"
   ]
  }
 ],
 "metadata": {
  "kernelspec": {
   "display_name": "Python 3 (ipykernel)",
   "language": "python",
   "name": "python3"
  },
  "language_info": {
   "codemirror_mode": {
    "name": "ipython",
    "version": 3
   },
   "file_extension": ".py",
   "mimetype": "text/x-python",
   "name": "python",
   "nbconvert_exporter": "python",
   "pygments_lexer": "ipython3",
   "version": "3.9.13"
  }
 },
 "nbformat": 4,
 "nbformat_minor": 5
}